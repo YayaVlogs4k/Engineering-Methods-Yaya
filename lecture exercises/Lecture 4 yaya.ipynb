{
 "cells": [
  {
   "cell_type": "markdown",
   "id": "bf181aa5",
   "metadata": {},
   "source": [
    "## Review on if statements "
   ]
  },
  {
   "cell_type": "markdown",
   "id": "48ee0ef5",
   "metadata": {},
   "source": [
    "## 🧊 Simulate a Thermostat\n",
    "Ask the user for the current temperature and print:\n",
    "- “It’s cold” if < 60°F\n",
    "- “It’s comfortable” if between 60°F and 75°F\n",
    "- “It’s hot” if > 75°F"
   ]
  },
  {
   "cell_type": "code",
   "execution_count": 12,
   "id": "51140bb1",
   "metadata": {},
   "outputs": [
    {
     "name": "stdout",
     "output_type": "stream",
     "text": [
      "It is hot!\n"
     ]
    }
   ],
   "source": [
    "temperature = input(\"Enter the current temperature in Fahrenheit: \")\n",
    "\n",
    "temp = int(temperature)\n",
    "if temp > 75:\n",
    "    print(\"It is hot!\")\n",
    "elif temp < 60:\n",
    "    print(\"It is cold!\")\n",
    "else:\n",
    "    print(\"It is comfortable!\")\n",
    "# Your code here\n",
    "#temp = float(temperature) # turn str into float\n",
    "#if temp < 60: \n",
    "    #print(\"It is cold!\")\n",
    "#elif temp < 75:\n",
    "    #print(\"It is comfortable!\")\n",
    "#else:\n",
    "    #print(\"It is hot!\")"
   ]
  },
  {
   "cell_type": "markdown",
   "id": "c69bd652",
   "metadata": {},
   "source": [
    "## 🌊 Fluid Flow Calculation\n",
    "\n",
    "You are analyzing fluid flow in a pipe. The flow regime depends on the Reynolds number, which is calculated using:\n",
    "Re = (ρDv)/ μ.\n",
    "\n",
    "Where:\n",
    "Re = Reynolds number, a dimensionless number;\n",
    "ρ = density of the fluid;\n",
    "D = diameter of the passage way;\n",
    "v = velocity of the fluid;\n",
    "μ = viscosity of the fluid.\n",
    "\n",
    "Write a program that:\n",
    "- Asks for fluid properties and flow velocity.\n",
    "- Calculates Reynolds number.\n",
    "- Uses nested conditionals to classify the flow as:\n",
    "  - Laminar (Re < 2000)\n",
    "  - Transitional (2000 ≤ Re ≤ 4000)\n",
    "  - Turbulent (Re > 4000)\n"
   ]
  },
  {
   "cell_type": "code",
   "execution_count": 16,
   "id": "bed535c4",
   "metadata": {},
   "outputs": [
    {
     "name": "stdout",
     "output_type": "stream",
     "text": [
      "Reynolds number: 4000.0\n",
      "transitional\n"
     ]
    }
   ],
   "source": [
    "v = float(input(\"velocity\"))\n",
    "d = float(input(\"diameter\"))\n",
    "p = float(input(\"density\"))\n",
    "f = float(input(\"viscosity\"))\n",
    "re = (p * v * d) / f\n",
    "print(\"Reynolds number:\", re)\n",
    "if re < 2000:\n",
    "    print(\"laminar\")\n",
    "elif re > 4000:\n",
    "    print(\"turbulent\")\n",
    "else:\n",
    "    print(\"transitional\")"
   ]
  },
  {
   "cell_type": "markdown",
   "id": "da140da0",
   "metadata": {},
   "source": [
    "## More on loops- Lecture 4 "
   ]
  },
  {
   "cell_type": "markdown",
   "id": "18bb680b",
   "metadata": {},
   "source": [
    "## 🔩 Bolt Counter\n",
    "\n",
    "A machine uses bolts in sets of 4 per assembly. Calculate how many bolts are needed for 10 assemblies. Print a message every time an assembly is completed.\n",
    "assemblies = 10\n",
    "bolts_per_assembly = 4\n"
   ]
  },
  {
   "cell_type": "code",
   "execution_count": 19,
   "id": "6839b8c5",
   "metadata": {},
   "outputs": [
    {
     "name": "stdout",
     "output_type": "stream",
     "text": [
      "Assembly 1 completed. Total bolts used: 4\n",
      "Assembly 2 completed. Total bolts used: 8\n",
      "Assembly 3 completed. Total bolts used: 12\n",
      "Assembly 4 completed. Total bolts used: 16\n",
      "Assembly 5 completed. Total bolts used: 20\n",
      "Assembly 6 completed. Total bolts used: 24\n",
      "Assembly 7 completed. Total bolts used: 28\n",
      "Assembly 8 completed. Total bolts used: 32\n",
      "Assembly 9 completed. Total bolts used: 36\n",
      "Assembly 10 completed. Total bolts used: 40\n",
      "Total bolts needed for 10 assemblies: 40\n"
     ]
    }
   ],
   "source": [
    "assemblies = 10\n",
    "bolts_per_assembly = 4\n",
    "total_bolts = 0\n",
    "\n",
    "# Loop through each assembly\n",
    "for i in range(1, assemblies + 1): # from 1 to 10 inclusive. Need +1 because range is exclusive of the end value.\n",
    "\n",
    "    # Your code here # adding bolts for current assembly to total\n",
    "    total_bolts += bolts_per_assembly # total_bolts = total_bolts + bolts_per_assembly\n",
    "    print(f\"Assembly {i} completed. Total bolts used: {total_bolts}\") # Using f-string to print\n",
    "\n",
    "print(f\"Total bolts needed for {assemblies} assemblies: {total_bolts}\") # Final output of total bolts needed"
   ]
  },
  {
   "cell_type": "code",
   "execution_count": 32,
   "id": "6f19129c",
   "metadata": {},
   "outputs": [
    {
     "name": "stdout",
     "output_type": "stream",
     "text": [
      "Assembly 1 Complete! Total bolts used = 4\n",
      "Assembly 2 Complete! Total bolts used = 8\n",
      "Assembly 3 Complete! Total bolts used = 12\n",
      "Assembly 4 Complete! Total bolts used = 16\n",
      "Assembly 5 Complete! Total bolts used = 20\n",
      "Assembly 6 Complete! Total bolts used = 24\n",
      "Assembly 7 Complete! Total bolts used = 28\n",
      "Assembly 8 Complete! Total bolts used = 32\n",
      "Assembly 9 Complete! Total bolts used = 36\n",
      "Assembly 10 Complete! Total bolts used = 40\n",
      "Number of Bolts needed for 10 assemblies = 40\n"
     ]
    }
   ],
   "source": [
    "assemblies = 10\n",
    "bpa = 4\n",
    "bolts = assemblies*bpa\n",
    "for i in range (1, assemblies+1):\n",
    "    print (\"Assembly \"+str(i)+\" Complete!\"+\" Total bolts used = \"+str(bpa*i))\n",
    "print(\"Number of Bolts needed for \"+str(assemblies)+\" assemblies =\", bolts)"
   ]
  },
  {
   "cell_type": "markdown",
   "id": "c63188b6",
   "metadata": {},
   "source": [
    "## ❄️ Cooling Curve Generator\n",
    "\n",
    "Simulate the cooling of a metal block using Newton’s Law of Cooling: T(t) = T_env + (T0 - T_env) * e^(-kt)."
   ]
  },
  {
   "cell_type": "code",
   "execution_count": 34,
   "id": "45a0eac6",
   "metadata": {},
   "outputs": [
    {
     "name": "stdout",
     "output_type": "stream",
     "text": [
      "At 0 minute, temperature is 100.00 °C\n",
      "At 1 minute, temperature is 92.86 °C\n",
      "At 2 minute, temperature is 86.40 °C\n",
      "At 3 minute, temperature is 80.56 °C\n",
      "At 4 minute, temperature is 75.27 °C\n",
      "At 5 minute, temperature is 70.49 °C\n",
      "At 6 minute, temperature is 66.16 °C\n",
      "At 7 minute, temperature is 62.24 °C\n",
      "At 8 minute, temperature is 58.70 °C\n",
      "At 9 minute, temperature is 55.49 °C\n",
      "At 10 minute, temperature is 52.59 °C\n"
     ]
    }
   ],
   "source": [
    "import math\n",
    "\n",
    "T_env = 25  # ambient temperature in °C\n",
    "T0 = 100  # initial temperature in °C\n",
    "k = 0.1  # cooling constant\n",
    "time_steps = range(0, 11)  # time from 0 to 10 minutes\n",
    "\n",
    "# Loop through time steps\n",
    "for t in time_steps:\n",
    "    # Your code here\n",
    "    T_t = T_env + (T0 - T_env) * math.exp(- k * t)\n",
    "    print(f\"At {t} minute, temperature is {T_t:.2f} °C\")"
   ]
  },
  {
   "cell_type": "code",
   "execution_count": null,
   "id": "e2a61537",
   "metadata": {},
   "outputs": [],
   "source": [
    "T_env = 25  \n",
    "T0 = 100  \n",
    "k = 0.1  \n",
    "time = range(0, 11)\n"
   ]
  },
  {
   "cell_type": "markdown",
   "id": "bd7d5878",
   "metadata": {},
   "source": [
    "## 🌊 Simple Harmonic Motion Tracker\n",
    "\n",
    "Simulate the position of a spring-mass system over time using x(t) = A * cos(ωt). ω is the angular frequency in rad/s, which equals to 2πf. f is the linear frequency in hertz (1/second). Print out the position at each time step. Make sure you can see a Cos function in your output."
   ]
  },
  {
   "cell_type": "code",
   "execution_count": 13,
   "id": "bbd2b889",
   "metadata": {},
   "outputs": [
    {
     "name": "stdout",
     "output_type": "stream",
     "text": [
      "At t = 0, x(t) = 5.000000\n",
      "At t = 1, x(t) = 4.990134\n",
      "At t = 2, x(t) = 4.960574\n",
      "At t = 3, x(t) = 4.911436\n",
      "At t = 4, x(t) = 4.842916\n",
      "At t = 5, x(t) = 4.755283\n",
      "At t = 6, x(t) = 4.648882\n",
      "At t = 7, x(t) = 4.524135\n",
      "At t = 8, x(t) = 4.381533\n",
      "At t = 9, x(t) = 4.221640\n",
      "At t = 10, x(t) = 4.045085\n",
      "At t = 11, x(t) = 3.852566\n",
      "At t = 12, x(t) = 3.644843\n",
      "At t = 13, x(t) = 3.422736\n",
      "At t = 14, x(t) = 3.187120\n",
      "At t = 15, x(t) = 2.938926\n",
      "At t = 16, x(t) = 2.679134\n",
      "At t = 17, x(t) = 2.408768\n",
      "At t = 18, x(t) = 2.128896\n",
      "At t = 19, x(t) = 1.840623\n",
      "At t = 20, x(t) = 1.545085\n",
      "At t = 21, x(t) = 1.243449\n",
      "At t = 22, x(t) = 0.936907\n",
      "At t = 23, x(t) = 0.626666\n",
      "At t = 24, x(t) = 0.313953\n",
      "At t = 25, x(t) = -0.000000\n",
      "At t = 26, x(t) = -0.313953\n",
      "At t = 27, x(t) = -0.626666\n",
      "At t = 28, x(t) = -0.936907\n",
      "At t = 29, x(t) = -1.243449\n",
      "At t = 30, x(t) = -1.545085\n",
      "At t = 31, x(t) = -1.840623\n",
      "At t = 32, x(t) = -2.128896\n",
      "At t = 33, x(t) = -2.408768\n",
      "At t = 34, x(t) = -2.679134\n",
      "At t = 35, x(t) = -2.938926\n",
      "At t = 36, x(t) = -3.187120\n",
      "At t = 37, x(t) = -3.422736\n",
      "At t = 38, x(t) = -3.644843\n",
      "At t = 39, x(t) = -3.852566\n",
      "At t = 40, x(t) = -4.045085\n",
      "At t = 41, x(t) = -4.221640\n",
      "At t = 42, x(t) = -4.381533\n",
      "At t = 43, x(t) = -4.524135\n",
      "At t = 44, x(t) = -4.648882\n",
      "At t = 45, x(t) = -4.755283\n",
      "At t = 46, x(t) = -4.842916\n",
      "At t = 47, x(t) = -4.911436\n",
      "At t = 48, x(t) = -4.960574\n",
      "At t = 49, x(t) = -4.990134\n",
      "At t = 50, x(t) = -5.000000\n",
      "At t = 51, x(t) = -4.990134\n",
      "At t = 52, x(t) = -4.960574\n",
      "At t = 53, x(t) = -4.911436\n",
      "At t = 54, x(t) = -4.842916\n",
      "At t = 55, x(t) = -4.755283\n",
      "At t = 56, x(t) = -4.648882\n",
      "At t = 57, x(t) = -4.524135\n",
      "At t = 58, x(t) = -4.381533\n",
      "At t = 59, x(t) = -4.221640\n",
      "At t = 60, x(t) = -4.045085\n",
      "At t = 61, x(t) = -3.852566\n",
      "At t = 62, x(t) = -3.644843\n",
      "At t = 63, x(t) = -3.422736\n",
      "At t = 64, x(t) = -3.187120\n",
      "At t = 65, x(t) = -2.938926\n",
      "At t = 66, x(t) = -2.679134\n",
      "At t = 67, x(t) = -2.408768\n",
      "At t = 68, x(t) = -2.128896\n",
      "At t = 69, x(t) = -1.840623\n",
      "At t = 70, x(t) = -1.545085\n",
      "At t = 71, x(t) = -1.243449\n",
      "At t = 72, x(t) = -0.936907\n",
      "At t = 73, x(t) = -0.626666\n",
      "At t = 74, x(t) = -0.313953\n",
      "At t = 75, x(t) = -0.000000\n",
      "At t = 76, x(t) = 0.313953\n",
      "At t = 77, x(t) = 0.626666\n",
      "At t = 78, x(t) = 0.936907\n",
      "At t = 79, x(t) = 1.243449\n",
      "At t = 80, x(t) = 1.545085\n",
      "At t = 81, x(t) = 1.840623\n",
      "At t = 82, x(t) = 2.128896\n",
      "At t = 83, x(t) = 2.408768\n",
      "At t = 84, x(t) = 2.679134\n",
      "At t = 85, x(t) = 2.938926\n",
      "At t = 86, x(t) = 3.187120\n",
      "At t = 87, x(t) = 3.422736\n",
      "At t = 88, x(t) = 3.644843\n",
      "At t = 89, x(t) = 3.852566\n",
      "At t = 90, x(t) = 4.045085\n",
      "At t = 91, x(t) = 4.221640\n",
      "At t = 92, x(t) = 4.381533\n",
      "At t = 93, x(t) = 4.524135\n",
      "At t = 94, x(t) = 4.648882\n",
      "At t = 95, x(t) = 4.755283\n",
      "At t = 96, x(t) = 4.842916\n",
      "At t = 97, x(t) = 4.911436\n",
      "At t = 98, x(t) = 4.960574\n",
      "At t = 99, x(t) = 4.990134\n",
      "At t = 100, x(t) = 5.000000\n"
     ]
    }
   ],
   "source": [
    "import math\n",
    "A = 5 \n",
    "f = 0.23\n",
    "w = 2 * math.pi * f  \n",
    "steps = range(0, 101)  \n",
    "for t in steps:\n",
    "    x = A * math.cos(omega * t)\n",
    "    print(f\"At t = {t}, x(t) = {x:f}\")\n"
   ]
  },
  {
   "cell_type": "code",
   "execution_count": null,
   "id": "adecf781",
   "metadata": {},
   "outputs": [],
   "source": []
  },
  {
   "cell_type": "markdown",
   "id": "1f4170de",
   "metadata": {},
   "source": [
    "## 📚 Study Timer\n",
    "\n",
    "Loop through 5 study sessions of 25 minutes each. After each session, print the session number and \"Take a 5-minute break!\".\n",
    "\n",
    "Track total study time and break time and print them out at the end."
   ]
  },
  {
   "cell_type": "code",
   "execution_count": 15,
   "id": "8fde8ef8",
   "metadata": {},
   "outputs": [
    {
     "name": "stdout",
     "output_type": "stream",
     "text": [
      "Session 1 ends: Take a 5-minute break.\n",
      "Session 2 ends: Take a 5-minute break.\n",
      "Session 3 ends: Take a 5-minute break.\n",
      "Session 4 ends: Take a 5-minute break.\n",
      "Session 5 ends: Take a 5-minute break.\n",
      "Total study time: 125 minutes\n",
      "Total break time: 25 minutes\n"
     ]
    }
   ],
   "source": [
    "study_sessions = 5\n",
    "study_time = 0\n",
    "break_time = 0\n",
    "study_per_session = 25\n",
    "break_per_session = 5\n",
    "\n",
    "for session in range (1, study_sessions + 1):\n",
    "    study_time += study_per_session\n",
    "    break_time += break_per_session\n",
    "    print(f\"Session {session} ends: Take a 5-minute break.\")\n",
    "print(f\"Total study time: {study_time} minutes\")\n",
    "print(f\"Total break time: {break_time} minutes\")"
   ]
  },
  {
   "cell_type": "code",
   "execution_count": 14,
   "id": "fd345d57",
   "metadata": {},
   "outputs": [
    {
     "name": "stdout",
     "output_type": "stream",
     "text": [
      "Session 1 ends: Take a 5-minute break.\n",
      "Session 2 ends: Take a 5-minute break.\n",
      "Session 3 ends: Take a 5-minute break.\n",
      "Session 4 ends: Take a 5-minute break.\n",
      "Session 5 ends: Take a 5-minute break.\n",
      "Total study time: 125 minutes\n",
      "Total break time: 25 minutes\n"
     ]
    }
   ],
   "source": [
    "sessions = 5\n",
    "study = 0\n",
    "breaks = 0\n",
    "for i in range(1, sessions+1):\n",
    "    study += 25\n",
    "    breaks += 5\n",
    "    print(\"Session \"+str(i)+\" ends: Take a 5-minute break.\")\n",
    "print(\"Total study time: \" + str(study) + \" minutes\")\n",
    "print(\"Total break time: \" + str(breaks) + \" minutes\")"
   ]
  },
  {
   "cell_type": "markdown",
   "id": "a7f7b3fd",
   "metadata": {},
   "source": [
    "## 🏃 Step Counter\n",
    "\n",
    "Simulate a pedometer that logs steps every minute. Loop through 60 minutes and sum the total steps.\n",
    "Use random.randint(80, 120) to simulate steps per minute."
   ]
  },
  {
   "cell_type": "code",
   "execution_count": 16,
   "id": "96fcb3bd",
   "metadata": {},
   "outputs": [
    {
     "name": "stdout",
     "output_type": "stream",
     "text": [
      "Minute 1: 119 steps\n",
      "Minute 2: 91 steps\n",
      "Minute 3: 108 steps\n",
      "Minute 4: 96 steps\n",
      "Minute 5: 120 steps\n",
      "Minute 6: 96 steps\n",
      "Minute 7: 113 steps\n",
      "Minute 8: 107 steps\n",
      "Minute 9: 106 steps\n",
      "Minute 10: 99 steps\n",
      "Minute 11: 101 steps\n",
      "Minute 12: 106 steps\n",
      "Minute 13: 111 steps\n",
      "Minute 14: 100 steps\n",
      "Minute 15: 118 steps\n",
      "Minute 16: 103 steps\n",
      "Minute 17: 120 steps\n",
      "Minute 18: 88 steps\n",
      "Minute 19: 80 steps\n",
      "Minute 20: 120 steps\n",
      "Minute 21: 87 steps\n",
      "Minute 22: 91 steps\n",
      "Minute 23: 80 steps\n",
      "Minute 24: 119 steps\n",
      "Minute 25: 118 steps\n",
      "Minute 26: 109 steps\n",
      "Minute 27: 111 steps\n",
      "Minute 28: 100 steps\n",
      "Minute 29: 81 steps\n",
      "Minute 30: 97 steps\n",
      "Minute 31: 109 steps\n",
      "Minute 32: 83 steps\n",
      "Minute 33: 103 steps\n",
      "Minute 34: 87 steps\n",
      "Minute 35: 114 steps\n",
      "Minute 36: 81 steps\n",
      "Minute 37: 81 steps\n",
      "Minute 38: 81 steps\n",
      "Minute 39: 96 steps\n",
      "Minute 40: 99 steps\n",
      "Minute 41: 119 steps\n",
      "Minute 42: 119 steps\n",
      "Minute 43: 87 steps\n",
      "Minute 44: 85 steps\n",
      "Minute 45: 97 steps\n",
      "Minute 46: 114 steps\n",
      "Minute 47: 80 steps\n",
      "Minute 48: 95 steps\n",
      "Minute 49: 93 steps\n",
      "Minute 50: 96 steps\n",
      "Minute 51: 106 steps\n",
      "Minute 52: 115 steps\n",
      "Minute 53: 97 steps\n",
      "Minute 54: 81 steps\n",
      "Minute 55: 103 steps\n",
      "Minute 56: 89 steps\n",
      "Minute 57: 85 steps\n",
      "Minute 58: 115 steps\n",
      "Minute 59: 85 steps\n",
      "Minute 60: 109 steps\n",
      "Total steps in 1 hour: 5999\n"
     ]
    }
   ],
   "source": [
    "import random\n",
    "total_steps = 0\n",
    "minute = 0\n",
    "# Loop for each minute in an hour\n",
    "for minute in range (60): \n",
    "    minute = minute + 1\n",
    "    steps = random.randint(80,120) # Your code here to increase the total steps by a random number between 80 and 120. \n",
    "    total_steps = total_steps + steps \n",
    "    print(f\"Minute {minute}: {steps} steps\")\n",
    "\n",
    "print(f\"Total steps in 1 hour: {total_steps}\")"
   ]
  },
  {
   "cell_type": "code",
   "execution_count": 18,
   "id": "d0b49571",
   "metadata": {},
   "outputs": [
    {
     "name": "stdout",
     "output_type": "stream",
     "text": [
      "Minute 1: 94 steps\n",
      "Minute 2: 206 steps\n",
      "Minute 3: 313 steps\n",
      "Minute 4: 405 steps\n",
      "Minute 5: 515 steps\n",
      "Minute 6: 596 steps\n",
      "Minute 7: 682 steps\n",
      "Minute 8: 802 steps\n",
      "Minute 9: 891 steps\n",
      "Minute 10: 994 steps\n",
      "Minute 11: 1110 steps\n",
      "Minute 12: 1223 steps\n",
      "Minute 13: 1323 steps\n",
      "Minute 14: 1408 steps\n",
      "Minute 15: 1491 steps\n",
      "Minute 16: 1608 steps\n",
      "Minute 17: 1724 steps\n",
      "Minute 18: 1815 steps\n",
      "Minute 19: 1929 steps\n",
      "Minute 20: 2047 steps\n",
      "Minute 21: 2154 steps\n",
      "Minute 22: 2246 steps\n",
      "Minute 23: 2332 steps\n",
      "Minute 24: 2444 steps\n",
      "Minute 25: 2563 steps\n",
      "Minute 26: 2683 steps\n",
      "Minute 27: 2782 steps\n",
      "Minute 28: 2891 steps\n",
      "Minute 29: 2975 steps\n",
      "Minute 30: 3060 steps\n",
      "Minute 31: 3160 steps\n",
      "Minute 32: 3253 steps\n",
      "Minute 33: 3360 steps\n",
      "Minute 34: 3478 steps\n",
      "Minute 35: 3580 steps\n",
      "Minute 36: 3691 steps\n",
      "Minute 37: 3779 steps\n",
      "Minute 38: 3872 steps\n",
      "Minute 39: 3954 steps\n",
      "Minute 40: 4054 steps\n",
      "Minute 41: 4160 steps\n",
      "Minute 42: 4267 steps\n",
      "Minute 43: 4365 steps\n",
      "Minute 44: 4484 steps\n",
      "Minute 45: 4567 steps\n",
      "Minute 46: 4649 steps\n",
      "Minute 47: 4734 steps\n",
      "Minute 48: 4820 steps\n",
      "Minute 49: 4917 steps\n",
      "Minute 50: 5004 steps\n",
      "Minute 51: 5124 steps\n",
      "Minute 52: 5205 steps\n",
      "Minute 53: 5303 steps\n",
      "Minute 54: 5393 steps\n",
      "Minute 55: 5496 steps\n",
      "Minute 56: 5581 steps\n",
      "Minute 57: 5666 steps\n",
      "Minute 58: 5754 steps\n",
      "Minute 59: 5860 steps\n",
      "Minute 60: 5949 steps\n"
     ]
    }
   ],
   "source": [
    "import random\n",
    "steps = 0\n",
    "for i in range(60):\n",
    "    steps += random.randint(80, 120)\n",
    "    print(\"Minute \"+str(i+1)+\": \"+str(steps)+\" steps\")"
   ]
  },
  {
   "cell_type": "markdown",
   "id": "1c31ade7",
   "metadata": {},
   "source": [
    "## 🔁 Material Fatigue Counter\n",
    "\n",
    "Count how many cycles a material can endure before failure. Reduce strength slightly each cycle (you decide the deduction) and stop when it drops below a threshold."
   ]
  },
  {
   "cell_type": "code",
   "execution_count": 21,
   "id": "40731dc7",
   "metadata": {},
   "outputs": [
    {
     "name": "stdout",
     "output_type": "stream",
     "text": [
      "Cycle 1- Current strength is 950.00\n",
      "Cycle 2- Current strength is 900.00\n",
      "Cycle 3- Current strength is 850.00\n",
      "Cycle 4- Current strength is 800.00\n",
      "Cycle 5- Current strength is 750.00\n",
      "Cycle 6- Current strength is 700.00\n",
      "Material failed after 6 cycles.\n"
     ]
    }
   ],
   "source": [
    "initial_strength = 1000  # arbitrary units\n",
    "threshold = 700\n",
    "strength = initial_strength\n",
    "cycle = 0\n",
    "\n",
    "# Your code here\n",
    "while strength > threshold:\n",
    "    deduction = initial_strength * 0.05\n",
    "    strength = strength - deduction\n",
    "    cycle = cycle + 1\n",
    "    print(f\"Cycle {cycle}- Current strength is {strength:.2f}\")\n",
    "\n",
    "print(f\"Material failed after {cycle} cycles.\")"
   ]
  },
  {
   "cell_type": "code",
   "execution_count": 20,
   "id": "281293aa",
   "metadata": {},
   "outputs": [
    {
     "name": "stdout",
     "output_type": "stream",
     "text": [
      "Cycle 1- Current strength is 95.0\n",
      "Cycle 2- Current strength is 90.25\n",
      "Cycle 3- Current strength is 85.7375\n",
      "Cycle 4- Current strength is 81.450625\n",
      "Cycle 5- Current strength is 77.37809375\n",
      "Cycle 6- Current strength is 73.5091890625\n",
      "Cycle 7- Current strength is 69.833729609375\n"
     ]
    }
   ],
   "source": [
    "strength = 100\n",
    "failure_threshold = 70\n",
    "cycle = 0\n",
    "while strength > failure_threshold:\n",
    "    strength -= strength * 0.05\n",
    "    cycle += 1\n",
    "    print(\"Cycle \"+str(cycle)+\"- Current strength is \"+str(strength))"
   ]
  },
  {
   "cell_type": "markdown",
   "id": "a7def41f",
   "metadata": {},
   "source": [
    "## 📱 Battery Drain Simulator\n",
    "\n",
    "Simulate a phone battery draining 5% every hour. Use a loop to show battery level over time until it reaches 0%.\n",
    "Print a warning when battery drops below 20% and a final message if the battery is drained. \n",
    "\n",
    "Hint: You may use a conditional statement nested in a while loop."
   ]
  },
  {
   "cell_type": "code",
   "execution_count": 35,
   "id": "7f61b43c",
   "metadata": {},
   "outputs": [
    {
     "name": "stdout",
     "output_type": "stream",
     "text": [
      "Hour 1- Current battery level is 95.\n",
      "Hour 2- Current battery level is 90.\n",
      "Hour 3- Current battery level is 85.\n",
      "Hour 4- Current battery level is 80.\n",
      "Hour 5- Current battery level is 75.\n",
      "Hour 6- Current battery level is 70.\n",
      "Hour 7- Current battery level is 65.\n",
      "Hour 8- Current battery level is 60.\n",
      "Hour 9- Current battery level is 55.\n",
      "Hour 10- Current battery level is 50.\n",
      "Hour 11- Current battery level is 45.\n",
      "Hour 12- Current battery level is 40.\n",
      "Hour 13- Current battery level is 35.\n",
      "Hour 14- Current battery level is 30.\n",
      "Hour 15- Current battery level is 25.\n",
      "Hour 16- Current battery level is 20.\n",
      "Warning: Battery low!\n",
      "Hour 17- Current battery level is 15.\n",
      "Hour 18- Current battery level is 10.\n",
      "Hour 19- Current battery level is 5.\n",
      "Hour 20- Current battery level is 0.\n",
      "Battery drained.\n"
     ]
    }
   ],
   "source": [
    "battery = 100\n",
    "hour = 0\n",
    "drain = 5\n",
    "\n",
    "# Your code here\n",
    "while battery > 0:\n",
    "    hour = hour + 1\n",
    "    battery = battery - drain\n",
    "    print(f\"Hour {hour}- Current battery level is {battery}.\")\n",
    "    if battery == 20:\n",
    "        print(\"Warning: Battery low!\")\n",
    "print(\"Battery drained.\")"
   ]
  },
  {
   "cell_type": "code",
   "execution_count": 26,
   "id": "7118cc3c",
   "metadata": {},
   "outputs": [
    {
     "name": "stdout",
     "output_type": "stream",
     "text": [
      "Hour 1: Battery at 90%\n",
      "Hour 2: Battery at 80%\n",
      "Hour 3: Battery at 70%\n",
      "Hour 4: Battery at 60%\n",
      "Hour 5: Battery at 50%\n",
      "Hour 6: Battery at 40%\n",
      "Hour 7: Battery at 30%\n",
      "Hour 8: Battery at 20%\n",
      "Warning: Battery low\n",
      "Hour 9: Battery at 10%\n",
      "Hour 10: Battery at 0%\n",
      "Battery is drained\n"
     ]
    }
   ],
   "source": [
    "battery = 100\n",
    "hour = 0\n",
    "while battery > 0:\n",
    "    battery -= 10\n",
    "    hour += 1\n",
    "    print(\"Hour \"+str(hour)+\": Battery at \"+str(battery)+\"%\")\n",
    "    if battery == 20:\n",
    "        print(\"Warning: Battery low\")\n",
    "    if battery == 0:\n",
    "        print(\"Battery is drained\")"
   ]
  }
 ],
 "metadata": {
  "kernelspec": {
   "display_name": "base",
   "language": "python",
   "name": "python3"
  },
  "language_info": {
   "codemirror_mode": {
    "name": "ipython",
    "version": 3
   },
   "file_extension": ".py",
   "mimetype": "text/x-python",
   "name": "python",
   "nbconvert_exporter": "python",
   "pygments_lexer": "ipython3",
   "version": "3.13.5"
  }
 },
 "nbformat": 4,
 "nbformat_minor": 5
}

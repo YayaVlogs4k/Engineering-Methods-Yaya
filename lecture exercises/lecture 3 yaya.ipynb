{
 "cells": [
  {
   "cell_type": "markdown",
   "id": "c181a226",
   "metadata": {},
   "source": [
    "# Review of Lecture 2"
   ]
  },
  {
   "cell_type": "markdown",
   "id": "311f02ee",
   "metadata": {},
   "source": [
    "### Loops and print"
   ]
  },
  {
   "cell_type": "code",
   "execution_count": 1,
   "id": "93d630e9",
   "metadata": {},
   "outputs": [
    {
     "name": "stdout",
     "output_type": "stream",
     "text": [
      "1\n",
      "2\n",
      "3\n",
      "4\n",
      "5\n",
      "6\n",
      "7\n",
      "8\n",
      "9\n",
      "10\n"
     ]
    }
   ],
   "source": [
    "# Use a loop to print numbers from 1 to 10.\n",
    "# Yor code here \n",
    "for i in range(1, 11):\n",
    "    print(i)"
   ]
  },
  {
   "cell_type": "markdown",
   "id": "cf720a78",
   "metadata": {},
   "source": [
    "### Import math module and use math functions"
   ]
  },
  {
   "cell_type": "code",
   "execution_count": null,
   "id": "54155502",
   "metadata": {},
   "outputs": [
    {
     "data": {
      "text/plain": [
       "25.0"
      ]
     },
     "execution_count": 3,
     "metadata": {},
     "output_type": "execute_result"
    }
   ],
   "source": [
    "# Write a function that prints the square of a number\n",
    "\n",
    "import math # You need this first to import the math module\n",
    "def print_square(x): # x is a parameter.\n",
    "    return math.pow(x, 2)\n",
    "    # Your code here- Need to use the math module \n",
    "\n",
    "print_square(5) # Pay attention to the result of your function call. Is it an integer or a float?"
   ]
  },
  {
   "cell_type": "markdown",
   "id": "ad0199b3",
   "metadata": {},
   "source": [
    "\n",
    "### Loop Through a List and print( ) in Python\n",
    "Loop through a list of forces and calculate stress using σ = F / A. Flag any stress that exceeds the yield limit."
   ]
  },
  {
   "cell_type": "code",
   "execution_count": 4,
   "id": "76f83368",
   "metadata": {},
   "outputs": [
    {
     "name": "stdout",
     "output_type": "stream",
     "text": [
      "Force: 500 N → Stress: 100000.00 Pa → OK\n",
      "Force: 1000 N → Stress: 200000.00 Pa → OK\n",
      "Force: 1500 N → Stress: 300000.00 Pa → OK\n",
      "Force: 2000 N → Stress: 400000.00 Pa → OK\n",
      "Force: 2500 N → Stress: 500000.00 Pa → OK\n",
      "Force: 3000 N → Stress: 600000.00 Pa → Exceeds yield limit!\n"
     ]
    }
   ],
   "source": [
    "forces = [500, 1000, 1500, 2000, 2500, 3000]  # in Newtons - modify as needed\n",
    "area = 0.005  # cross-sectional area in m² - modify as needed\n",
    "yield_limit = 550000  # in Pascals - modify as needed\n",
    "\n",
    "for F in forces:\n",
    "    stress = F / area\n",
    "    status = \"OK\"\n",
    "    if stress > yield_limit:\n",
    "        status = \"Exceeds yield limit!\"\n",
    "    print(f\"Force: {F} N → Stress: {stress:.2f} Pa → {status}\")"
   ]
  },
  {
   "cell_type": "markdown",
   "id": "81dafced",
   "metadata": {},
   "source": [
    "# Overview of Conditionals and Recursion- Lecture 3"
   ]
  },
  {
   "cell_type": "markdown",
   "id": "311bc235",
   "metadata": {},
   "source": [
    "## Boolean"
   ]
  },
  {
   "cell_type": "markdown",
   "id": "1fb26646",
   "metadata": {},
   "source": [
    "### Boolean Values\n",
    "Booleans represent truth values: `True` and `False`.\n"
   ]
  },
  {
   "cell_type": "code",
   "execution_count": 9,
   "id": "fc8197b1",
   "metadata": {},
   "outputs": [
    {
     "data": {
      "text/plain": [
       "bool"
      ]
     },
     "execution_count": 9,
     "metadata": {},
     "output_type": "execute_result"
    }
   ],
   "source": [
    "x = 5\n",
    "y = 7\n",
    "x == y  # Check if x is equal to y- this returns False\n",
    "x != y  # Check if x is not equal to y- this returns True\n",
    "type(True)\n",
    "# uncomment the above lines to see what happens"
   ]
  },
  {
   "cell_type": "markdown",
   "id": "d174f3f0",
   "metadata": {},
   "source": [
    "## Relational Operators"
   ]
  },
  {
   "cell_type": "markdown",
   "id": "0372da7c",
   "metadata": {},
   "source": [
    "### Relational Operators\n",
    "Used to compare values: `==`, `!=`, `<`, `>`, `<=`, `>=`\n"
   ]
  },
  {
   "cell_type": "code",
   "execution_count": 3,
   "id": "40b87a16",
   "metadata": {},
   "outputs": [
    {
     "name": "stdout",
     "output_type": "stream",
     "text": [
      "False\n",
      "True\n",
      "False\n",
      "True\n"
     ]
    }
   ],
   "source": [
    "x = 10\n",
    "y = 20\n",
    "print(x == y) # check x is equal to y / false\n",
    "print(x < y) # check if x is less than y / true\n",
    "print(x >= y) # check if x is greater than or equal to y / false\n",
    "print(x != y) # check if x is not equal to y / true\n",
    "# Adding comment on each line for what you think the output is before running the code"
   ]
  },
  {
   "cell_type": "markdown",
   "id": "f80b11d3",
   "metadata": {},
   "source": [
    "## Logical Operators"
   ]
  },
  {
   "cell_type": "markdown",
   "id": "05f9f5b0",
   "metadata": {},
   "source": [
    "### Logical Operators\n",
    "`and`, `or`, `not` combine boolean expressions.\n"
   ]
  },
  {
   "cell_type": "code",
   "execution_count": 5,
   "id": "0e6878b5",
   "metadata": {},
   "outputs": [
    {
     "name": "stdout",
     "output_type": "stream",
     "text": [
      "True\n",
      "True\n",
      "False\n",
      "True\n",
      "False\n",
      "True\n"
     ]
    }
   ],
   "source": [
    "x = 5\n",
    "print(x > 0 and x < 10)\n",
    "print(x < 0 or x > 3)\n",
    "print(not(x == 5))\n",
    "\n",
    "y=2\n",
    "print(y > 0 and y < 5) # True\n",
    "print(y < 0 or y > 3) # False\n",
    "print(not(y == 5)) # True\n",
    "# add a few more examples of logical operators on your own"
   ]
  },
  {
   "cell_type": "markdown",
   "id": "62fa97d3",
   "metadata": {},
   "source": [
    "## if Statement"
   ]
  },
  {
   "cell_type": "markdown",
   "id": "c481066c",
   "metadata": {},
   "source": [
    "### if Statement\n",
    "Executes a block of code if the condition is true.\n"
   ]
  },
  {
   "cell_type": "code",
   "execution_count": 6,
   "id": "8b50c0f5",
   "metadata": {},
   "outputs": [
    {
     "name": "stdout",
     "output_type": "stream",
     "text": [
      "ok\n"
     ]
    }
   ],
   "source": [
    "x = 7\n",
    "if x > 5:\n",
    "    print(\"ok\")"
   ]
  },
  {
   "cell_type": "code",
   "execution_count": 8,
   "id": "4e1c03fa",
   "metadata": {},
   "outputs": [
    {
     "name": "stdout",
     "output_type": "stream",
     "text": [
      "an appropriate message\n"
     ]
    }
   ],
   "source": [
    "# Your code here- write a conditional statement that checks if x is less than 3,\n",
    "x=2\n",
    "if x < 3:\n",
    "    print(\"an appropriate message\")\n",
    "# and prints an appropriate message\n"
   ]
  },
  {
   "cell_type": "markdown",
   "id": "44262caa",
   "metadata": {},
   "source": [
    "## else Statement"
   ]
  },
  {
   "cell_type": "markdown",
   "id": "1c7e31b6",
   "metadata": {},
   "source": [
    "### else Statement\n",
    "Provides an alternative block if the condition is false.\n"
   ]
  },
  {
   "cell_type": "code",
   "execution_count": 9,
   "id": "6ba615ad",
   "metadata": {},
   "outputs": [
    {
     "name": "stdout",
     "output_type": "stream",
     "text": [
      "x is not greater than 5\n"
     ]
    }
   ],
   "source": [
    "x = 3\n",
    "if x > 5:\n",
    "    print(\"x is greater than 5\")\n",
    "else:\n",
    "    print(\"x is not greater than 5\")"
   ]
  },
  {
   "cell_type": "code",
   "execution_count": 10,
   "id": "b18eb337",
   "metadata": {},
   "outputs": [
    {
     "name": "stdout",
     "output_type": "stream",
     "text": [
      "an appropriate message\n"
     ]
    }
   ],
   "source": [
    "# Yor code here- write a conditional statement that checks if x is less than 5,\n",
    "# and prints an appropriate message\n",
    "x=2\n",
    "if x < 5:\n",
    "    print(\"an appropriate message\")\n",
    "else:\n",
    "    print(\"an inappropriate message\")"
   ]
  },
  {
   "cell_type": "markdown",
   "id": "3c39ec32",
   "metadata": {},
   "source": [
    "## elif Statement"
   ]
  },
  {
   "cell_type": "markdown",
   "id": "a64555ec",
   "metadata": {},
   "source": [
    "### elif Statement\n",
    "Checks multiple conditions in sequence.\n"
   ]
  },
  {
   "cell_type": "code",
   "execution_count": 11,
   "id": "086de423",
   "metadata": {},
   "outputs": [
    {
     "name": "stdout",
     "output_type": "stream",
     "text": [
      "x is equal to 5\n"
     ]
    }
   ],
   "source": [
    "x = 5\n",
    "if x > 5:\n",
    "    print(\"x is greater than 5\")\n",
    "elif x == 5:\n",
    "    print(\"x is equal to 5\")\n",
    "else:\n",
    "    print(\"x is less than 5\")"
   ]
  },
  {
   "cell_type": "code",
   "execution_count": 13,
   "id": "e15fa9eb",
   "metadata": {},
   "outputs": [
    {
     "name": "stdout",
     "output_type": "stream",
     "text": [
      "an appropriate message\n"
     ]
    }
   ],
   "source": [
    "# Your code here- write a conditional statement that checks if x is less than 3,\n",
    "# between 3 and 10, or greater than 10, and prints an appropriate message\n",
    "x=2\n",
    "if x < 3:\n",
    "    print(\"an appropriate message\")\n",
    "elif 3 <= x <= 10:\n",
    "    print(\"a kinda appropriate message\")\n",
    "else:\n",
    "    print(\"an inappropriate message\") "
   ]
  },
  {
   "cell_type": "markdown",
   "id": "a1babeea",
   "metadata": {},
   "source": [
    "## Nested Condition"
   ]
  },
  {
   "cell_type": "markdown",
   "id": "8872c898",
   "metadata": {},
   "source": [
    "### Nested Condition\n",
    "Conditions inside other conditions.\n"
   ]
  },
  {
   "cell_type": "code",
   "execution_count": 15,
   "id": "aff0a886",
   "metadata": {},
   "outputs": [
    {
     "name": "stdout",
     "output_type": "stream",
     "text": [
      "x is between 5 and 15\n"
     ]
    }
   ],
   "source": [
    "x = 10\n",
    "if x > 5:\n",
    "    if x < 15:\n",
    "        print(\"x is between 5 and 15\")"
   ]
  },
  {
   "cell_type": "code",
   "execution_count": 38,
   "id": "c9e2e3ee",
   "metadata": {},
   "outputs": [
    {
     "name": "stdout",
     "output_type": "stream",
     "text": [
      "x is between 3 and 10\n"
     ]
    }
   ],
   "source": [
    "# Write a conditional statement that checks if x is \n",
    "# between 3 and 10, and prints an appropriate message.\n",
    "# You must use nested conditonal statements\n",
    "x = 9\n",
    "if x > 3:\n",
    "    if x < 10:\n",
    "        print(\"x is between 3 and 10\")\n",
    "    else:\n",
    "        print(\"x is not between 3 and 10\")\n",
    "    \n"
   ]
  },
  {
   "cell_type": "markdown",
   "id": "3906589c",
   "metadata": {},
   "source": [
    "## Recursion"
   ]
  },
  {
   "cell_type": "markdown",
   "id": "b2e55c5a",
   "metadata": {},
   "source": [
    "### Recursion Example: Countdown\n",
    "A function calling itself to count down.\n"
   ]
  },
  {
   "cell_type": "code",
   "execution_count": 19,
   "id": "60af33c6",
   "metadata": {},
   "outputs": [
    {
     "name": "stdout",
     "output_type": "stream",
     "text": [
      "67\n",
      "66\n",
      "65\n",
      "64\n",
      "63\n",
      "62\n",
      "61\n",
      "60\n",
      "59\n",
      "58\n",
      "57\n",
      "56\n",
      "55\n",
      "54\n",
      "53\n",
      "52\n",
      "51\n",
      "50\n",
      "49\n",
      "48\n",
      "47\n",
      "46\n",
      "45\n",
      "44\n",
      "43\n",
      "42\n",
      "41\n",
      "40\n",
      "39\n",
      "38\n",
      "37\n",
      "36\n",
      "35\n",
      "34\n",
      "33\n",
      "32\n",
      "31\n",
      "30\n",
      "29\n",
      "28\n",
      "27\n",
      "26\n",
      "25\n",
      "24\n",
      "23\n",
      "22\n",
      "21\n",
      "20\n",
      "19\n",
      "18\n",
      "17\n",
      "16\n",
      "15\n",
      "14\n",
      "13\n",
      "12\n",
      "11\n",
      "10\n",
      "9\n",
      "8\n",
      "7\n",
      "6\n",
      "5\n",
      "4\n",
      "3\n",
      "2\n",
      "1\n",
      "Blastoff!\n"
     ]
    }
   ],
   "source": [
    "def countdown(n):\n",
    "    if n <= 0:\n",
    "        print(\"Blastoff!\")\n",
    "    else:\n",
    "        print(n)\n",
    "        countdown(n - 1)\n",
    "\n",
    "countdown(67) # Change the number to see how it works"
   ]
  },
  {
   "cell_type": "code",
   "execution_count": 21,
   "id": "aa374f7d",
   "metadata": {},
   "outputs": [
    {
     "name": "stdout",
     "output_type": "stream",
     "text": [
      "60\n",
      "61\n",
      "62\n",
      "63\n",
      "64\n",
      "65\n",
      "66\n",
      "six sevennnnnnnnnnnnnnnnnnnnnnn\n"
     ]
    }
   ],
   "source": [
    "# Your code here to print out \n",
    "def brainrot (n):\n",
    "    if n >= 67:\n",
    "        print(\"six sevennnnnnnnnnnnnnnnnnnnnnn\")\n",
    "    else:\n",
    "        print (n)\n",
    "        brainrot (n+1)\n",
    "brainrot(60) # Change the number to see how it work"
   ]
  },
  {
   "cell_type": "markdown",
   "id": "6268224f",
   "metadata": {},
   "source": [
    "## Review of Conditionals and Recursion\n",
    "Conditionals allow branching logic using `if`, `elif`, and `else`. Recursion is when a function calls itself.\n"
   ]
  },
  {
   "cell_type": "code",
   "execution_count": 32,
   "id": "8b6b1d41",
   "metadata": {},
   "outputs": [
    {
     "data": {
      "text/plain": [
       "36471110918188685288249859096605464427167635314049524593701628500267962436943872000000000000000"
      ]
     },
     "execution_count": 32,
     "metadata": {},
     "output_type": "execute_result"
    }
   ],
   "source": [
    "# This example compute factorial using a loop. \n",
    "def factorial_iterative(n):\n",
    "    result = 1\n",
    "    for i in range(1, n + 1):\n",
    "        result *= i\n",
    "    return result\n",
    "\n",
    "factorial_iterative(67) # Change the argument to compute factorial of different numbers."
   ]
  },
  {
   "cell_type": "code",
   "execution_count": 34,
   "id": "f281abf7",
   "metadata": {},
   "outputs": [
    {
     "data": {
      "text/plain": [
       "36471110918188685288249859096605464427167635314049524593701628500267962436943872000000000000000"
      ]
     },
     "execution_count": 34,
     "metadata": {},
     "output_type": "execute_result"
    }
   ],
   "source": [
    "# The example of a recursive function to compute factorial.\n",
    "\n",
    "def factorial_recursive(n):\n",
    "    if n == 0:\n",
    "        return 1\n",
    "    else:\n",
    "        return n * factorial_recursive(n - 1) # Recursive call\n",
    "\n",
    "factorial_recursive(67) # Change the argument to compute factorial of different numbers."
   ]
  },
  {
   "cell_type": "markdown",
   "id": "8a1a8d33",
   "metadata": {},
   "source": [
    "## Infinite Recursion"
   ]
  },
  {
   "cell_type": "markdown",
   "id": "079f9d61",
   "metadata": {},
   "source": [
    "### Infinite Recursion Error\n",
    "Occurs when recursion has no base case.\n"
   ]
  },
  {
   "cell_type": "code",
   "execution_count": 28,
   "id": "41f7cf26",
   "metadata": {},
   "outputs": [],
   "source": [
    "# Uncomment to see the error\n",
    "#def recurse():\n",
    "    #return recurse()\n",
    "#recurse()"
   ]
  },
  {
   "cell_type": "markdown",
   "id": "b218431d",
   "metadata": {},
   "source": [
    "## Keyboard Input"
   ]
  },
  {
   "cell_type": "markdown",
   "id": "1e2899cd",
   "metadata": {},
   "source": [
    "### Keyboard Input\n",
    "Use `input()` to get user input.\n"
   ]
  },
  {
   "cell_type": "code",
   "execution_count": 27,
   "id": "a49c6057",
   "metadata": {},
   "outputs": [
    {
     "name": "stdout",
     "output_type": "stream",
     "text": [
      "Hello, yaya\n"
     ]
    }
   ],
   "source": [
    "# Uncomment to run interactively\n",
    "name = input(\"Enter your name: \")\n",
    "print(\"Hello,\", name)"
   ]
  },
  {
   "cell_type": "code",
   "execution_count": 36,
   "id": "1335a581",
   "metadata": {},
   "outputs": [
    {
     "name": "stdout",
     "output_type": "stream",
     "text": [
      "Hello, yaya\n"
     ]
    }
   ],
   "source": [
    "# Uncomment to see what happens. What's the difference from above? \n",
    "# How would you fix the code to get the same output as above?\n",
    "name = input('What...is your name?\\n')\n",
    "print(\"Hello,\", name)\n"
   ]
  }
 ],
 "metadata": {
  "kernelspec": {
   "display_name": "base",
   "language": "python",
   "name": "python3"
  },
  "language_info": {
   "codemirror_mode": {
    "name": "ipython",
    "version": 3
   },
   "file_extension": ".py",
   "mimetype": "text/x-python",
   "name": "python",
   "nbconvert_exporter": "python",
   "pygments_lexer": "ipython3",
   "version": "3.13.5"
  }
 },
 "nbformat": 4,
 "nbformat_minor": 5
}

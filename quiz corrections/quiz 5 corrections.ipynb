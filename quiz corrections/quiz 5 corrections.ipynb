{
 "cells": [
  {
   "cell_type": "code",
   "execution_count": null,
   "id": "6a449224",
   "metadata": {},
   "outputs": [
    {
     "name": "stdout",
     "output_type": "stream",
     "text": [
      "o\n",
      "Slice:  Ha\n"
     ]
    }
   ],
   "source": [
    "text = \"Happy Halloween!\" #setting a string variable called \"text\"\n",
    "print (text[10]) #Print the 10th character\n",
    "print (\"Slice:\", text[5:8]) #Print the text sliced from 5th to 7th character"
   ]
  },
  {
   "cell_type": "code",
   "execution_count": null,
   "id": "d8ff5fd7",
   "metadata": {},
   "outputs": [
    {
     "name": "stdout",
     "output_type": "stream",
     "text": [
      "bcosts$10.00\n",
      "ecosts$9.00\n",
      "gcosts$7.50\n",
      "Total grocery bill is $26.50 for 3 items.\n"
     ]
    }
   ],
   "source": [
    "items = {'b':10.0,'e':9.0,'g':7.5} #items and their prices\n",
    "total = 0 #initialize total price variable\n",
    "total_item = 0 #initialize total item count variable\n",
    "for name, price in items.items(): #loop through items\n",
    "    total += price #add price to total\n",
    "    total_item += 1 #increment item count\n",
    "    print(f\"{name}costs${price:.2f}\") #print each item's name and price\n",
    "print(f\"Total grocery bill is ${total:.2f} for {total_item} items.\")# print total bill and item count"
   ]
  }
 ],
 "metadata": {
  "kernelspec": {
   "display_name": "base",
   "language": "python",
   "name": "python3"
  },
  "language_info": {
   "codemirror_mode": {
    "name": "ipython",
    "version": 3
   },
   "file_extension": ".py",
   "mimetype": "text/x-python",
   "name": "python",
   "nbconvert_exporter": "python",
   "pygments_lexer": "ipython3",
   "version": "3.13.5"
  }
 },
 "nbformat": 4,
 "nbformat_minor": 5
}

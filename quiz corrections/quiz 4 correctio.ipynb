{
 "cells": [
  {
   "cell_type": "code",
   "execution_count": null,
   "id": "7b4b47de",
   "metadata": {},
   "outputs": [
    {
     "name": "stdout",
     "output_type": "stream",
     "text": [
      "Error: Input is not an integer.\n",
      "Stready-State Conduction\n"
     ]
    },
    {
     "ename": "",
     "evalue": "",
     "output_type": "error",
     "traceback": [
      "\u001b[1;31mThe Kernel crashed while executing code in the current cell or a previous cell. \n",
      "\u001b[1;31mPlease review the code in the cell(s) to identify a possible cause of the failure. \n",
      "\u001b[1;31mClick <a href='https://aka.ms/vscodeJupyterKernelCrash'>here</a> for more info. \n",
      "\u001b[1;31mView Jupyter <a href='command:jupyter.viewOutput'>log</a> for further details."
     ]
    }
   ],
   "source": [
    "#corrections\n",
    "Alpha =1.165*(10**(-4))\n",
    "L=0.01\n",
    "t=input(\"t in seconds \")\n",
    "if \".\" in t:\n",
    "    print(\"Error: Input is not an integer.\")\n",
    "else:\n",
    "    t = int(t)\n",
    "    F = (Alpha * t) / (L ** 2)\n",
    "if F<0.01:\n",
    "    print(\"Initial Stage\")\n",
    "elif F>1:\n",
    "    print(\"Stready-State Conduction\")\n",
    "else:\n",
    "    print(\"Transient Conduction\")"
   ]
  }
 ],
 "metadata": {
  "kernelspec": {
   "display_name": "base",
   "language": "python",
   "name": "python3"
  },
  "language_info": {
   "codemirror_mode": {
    "name": "ipython",
    "version": 3
   },
   "file_extension": ".py",
   "mimetype": "text/x-python",
   "name": "python",
   "nbconvert_exporter": "python",
   "pygments_lexer": "ipython3",
   "version": "3.13.5"
  }
 },
 "nbformat": 4,
 "nbformat_minor": 5
}

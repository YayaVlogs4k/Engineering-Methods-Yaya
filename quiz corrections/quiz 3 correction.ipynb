{
 "cells": [
  {
   "cell_type": "code",
   "execution_count": 9,
   "id": "c7fb1c74",
   "metadata": {},
   "outputs": [
    {
     "ename": "TypeError",
     "evalue": "'<' not supported between instances of 'str' and 'int'",
     "output_type": "error",
     "traceback": [
      "\u001b[1;31m---------------------------------------------------------------------------\u001b[0m",
      "\u001b[1;31mTypeError\u001b[0m                                 Traceback (most recent call last)",
      "Cell \u001b[1;32mIn[9], line 5\u001b[0m\n\u001b[0;32m      3\u001b[0m x\u001b[38;5;241m=\u001b[39m\u001b[38;5;28minput\u001b[39m(\u001b[38;5;124m\"\u001b[39m\u001b[38;5;124mx input\u001b[39m\u001b[38;5;124m\"\u001b[39m) \u001b[38;5;66;03m#takes input of x\u001b[39;00m\n\u001b[0;32m      4\u001b[0m \u001b[38;5;66;03m#incorrect, supposed to convert into a float, x is a string\u001b[39;00m\n\u001b[1;32m----> 5\u001b[0m \u001b[38;5;28;01mif\u001b[39;00m x\u001b[38;5;241m<\u001b[39m\u001b[38;5;241m4\u001b[39m: \u001b[38;5;66;03m#check if x is less than 4\u001b[39;00m\n\u001b[0;32m      6\u001b[0m     \u001b[38;5;28mprint\u001b[39m(\u001b[38;5;124m\"\u001b[39m\u001b[38;5;124minappropriate message\u001b[39m\u001b[38;5;124m\"\u001b[39m) \u001b[38;5;66;03m#print the message\u001b[39;00m\n\u001b[0;32m      7\u001b[0m \u001b[38;5;28;01melif\u001b[39;00m x\u001b[38;5;241m>\u001b[39m\u001b[38;5;241m10\u001b[39m: \u001b[38;5;66;03m#if it is not less that 4 then check if it is greater than 10\u001b[39;00m\n",
      "\u001b[1;31mTypeError\u001b[0m: '<' not supported between instances of 'str' and 'int'"
     ]
    }
   ],
   "source": [
    "#problem 1\n",
    "#incorrect code from quiz\n",
    "x=input(\"x input\") #takes input of x\n",
    "#incorrect, supposed to convert into a float, x is a string\n",
    "if x<4: #check if x is less than 4\n",
    "    print(\"inappropriate message\") #print the message\n",
    "elif x>10: #if it is not less that 4 then check if it is greater than 10\n",
    "    print(\"even more inappropriate message\") #print the message\n",
    "else: #otherwise it is between 4 and 10\n",
    "    print(\"appropriate message\") #print the message"
   ]
  },
  {
   "cell_type": "code",
   "execution_count": null,
   "id": "a2e4d2d3",
   "metadata": {},
   "outputs": [
    {
     "name": "stdout",
     "output_type": "stream",
     "text": [
      "appropriate message\n"
     ]
    }
   ],
   "source": [
    "#problem 1\n",
    "#corrected code\n",
    "x=input(\"x input\") #takes input of x\n",
    "x=float(x) #convert into a float\n",
    "if x<4: #check if x is less than 4\n",
    "    print(\"inappropriate message\") #print the message\n",
    "elif x>10: #if it is not less that 4 then check if it is greater than 10\n",
    "    print(\"even more inappropriate message\") #print the message\n",
    "else: #otherwise it is between 4 and 10\n",
    "    print(\"appropriate message\")  #print `the message"
   ]
  },
  {
   "cell_type": "code",
   "execution_count": null,
   "id": "14ee76fd",
   "metadata": {},
   "outputs": [
    {
     "ename": "TypeError",
     "evalue": "'float' object cannot be interpreted as an integer",
     "output_type": "error",
     "traceback": [
      "\u001b[1;31m---------------------------------------------------------------------------\u001b[0m",
      "\u001b[1;31mTypeError\u001b[0m                                 Traceback (most recent call last)",
      "Cell \u001b[1;32mIn[3], line 6\u001b[0m\n\u001b[0;32m      4\u001b[0m     \u001b[38;5;28mint\u001b[39m(x)\n\u001b[0;32m      5\u001b[0m \u001b[38;5;28;01melse\u001b[39;00m:\n\u001b[1;32m----> 6\u001b[0m     \u001b[38;5;28;01mfor\u001b[39;00m i \u001b[38;5;129;01min\u001b[39;00m \u001b[38;5;28mrange\u001b[39m (x):\n\u001b[0;32m      7\u001b[0m         answer\u001b[38;5;241m=\u001b[39mx\u001b[38;5;241m*\u001b[39m(x\u001b[38;5;241m-\u001b[39m\u001b[38;5;241m1\u001b[39m)\n\u001b[0;32m      8\u001b[0m     \u001b[38;5;28mprint\u001b[39m(answer)\n",
      "\u001b[1;31mTypeError\u001b[0m: 'float' object cannot be interpreted as an integer"
     ]
    }
   ],
   "source": [
    "#problem 2\n",
    "#incorrect code from quiz\n",
    "x=input(\"Enter an integer: \") #takes input of x\n",
    "x=float(x) #turns x into a float\n",
    "#missing a y function to take the % of x\n",
    "if(x%1)>0: # can be replaced with if x!=type (error)\n",
    "    int(x) #this does nothing, supposed to print an error message\n",
    "else: #otherwise it is an integer\n",
    "    for i in range (x): #\n",
    "        answer=x*(x-1)\n",
    "    print(answer)"
   ]
  },
  {
   "cell_type": "code",
   "execution_count": null,
   "id": "7eb8a9e4",
   "metadata": {},
   "outputs": [
    {
     "name": "stdout",
     "output_type": "stream",
     "text": [
      "120\n"
     ]
    }
   ],
   "source": [
    "#problem 2\n",
    "#corrected code on how to take an input and do factorial of input\n",
    "# Take input from user\n",
    "x = input(\"Enter an integer: \")\n",
    "\n",
    "# Convert from string to float\n",
    "x = float(x)\n",
    "\n",
    "# Check if input is an integer using modulus\n",
    "if x % 1 != 0:\n",
    "    print(\"Error: Input is not an integer.\")\n",
    "else:\n",
    "    # Convert to int and calculate factorial\n",
    "    x = int(x)\n",
    "    answer = 1\n",
    "    for i in range(1, x + 1):\n",
    "        answer = answer * i\n",
    "    print(answer)\n"
   ]
  },
  {
   "cell_type": "code",
   "execution_count": null,
   "id": "1f51463c",
   "metadata": {},
   "outputs": [],
   "source": []
  }
 ],
 "metadata": {
  "kernelspec": {
   "display_name": "base",
   "language": "python",
   "name": "python3"
  },
  "language_info": {
   "codemirror_mode": {
    "name": "ipython",
    "version": 3
   },
   "file_extension": ".py",
   "mimetype": "text/x-python",
   "name": "python",
   "nbconvert_exporter": "python",
   "pygments_lexer": "ipython3",
   "version": "3.13.5"
  }
 },
 "nbformat": 4,
 "nbformat_minor": 5
}

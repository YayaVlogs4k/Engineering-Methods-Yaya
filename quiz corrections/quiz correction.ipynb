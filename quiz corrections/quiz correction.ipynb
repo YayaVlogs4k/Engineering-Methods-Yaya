{
 "cells": [
  {
   "cell_type": "code",
   "execution_count": null,
   "id": "3624b5af",
   "metadata": {},
   "outputs": [
    {
     "name": "stdout",
     "output_type": "stream",
     "text": [
      "4.0\n"
     ]
    }
   ],
   "source": [
    "#Question 7\n",
    "import math\n",
    "print(math.sqrt(16))\n"
   ]
  },
  {
   "cell_type": "code",
   "execution_count": null,
   "id": "3dca11cd",
   "metadata": {},
   "outputs": [],
   "source": [
    "#Question 14\n",
    "def square(x):\n",
    "    y=x**2\n",
    "    return y\n",
    "\n",
    "#local variable y, not accessible outside the function"
   ]
  },
  {
   "cell_type": "code",
   "execution_count": null,
   "id": "15dad6b2",
   "metadata": {},
   "outputs": [
    {
     "name": "stdout",
     "output_type": "stream",
     "text": [
      "1\n",
      "2\n",
      "3\n",
      "4\n",
      "5\n",
      "6\n",
      "7\n",
      "8\n",
      "9\n",
      "10\n"
     ]
    }
   ],
   "source": [
    "#Question 17\n",
    "for i in range(1,11):\n",
    "    print(i)"
   ]
  },
  {
   "cell_type": "code",
   "execution_count": 11,
   "id": "11e879cb",
   "metadata": {},
   "outputs": [
    {
     "name": "stdout",
     "output_type": "stream",
     "text": [
      "3.14\n"
     ]
    }
   ],
   "source": [
    "#Question 19\n",
    "import math\n",
    "print(f\"{math.pi:.2f}\")"
   ]
  }
 ],
 "metadata": {
  "kernelspec": {
   "display_name": "base",
   "language": "python",
   "name": "python3"
  },
  "language_info": {
   "codemirror_mode": {
    "name": "ipython",
    "version": 3
   },
   "file_extension": ".py",
   "mimetype": "text/x-python",
   "name": "python",
   "nbconvert_exporter": "python",
   "pygments_lexer": "ipython3",
   "version": "3.13.5"
  }
 },
 "nbformat": 4,
 "nbformat_minor": 5
}
